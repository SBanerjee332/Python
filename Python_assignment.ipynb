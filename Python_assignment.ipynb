{
  "nbformat": 4,
  "nbformat_minor": 0,
  "metadata": {
    "colab": {
      "provenance": []
    },
    "kernelspec": {
      "name": "python3",
      "display_name": "Python 3"
    },
    "language_info": {
      "name": "python"
    }
  },
  "cells": [
    {
      "cell_type": "markdown",
      "source": [
        "1. What is Python, and why is it popular ?  \n",
        "  Answer : Python is scripting language with object oriented programming feature. Python is popular because of it simple to read and write , do not need to require to understand the programming language rather data scientist could focus on statistical calculation."
      ],
      "metadata": {
        "id": "n-V50-wMV1S7"
      }
    },
    {
      "cell_type": "markdown",
      "source": [
        "2. What is an interpreter in Python ?\n",
        " Answer : As Python is a high level language, coders write code in english, interpreter is used to convert that high level language into a language which hardware can understand or interprete."
      ],
      "metadata": {
        "id": "Vl171_7fXWX6"
      }
    },
    {
      "cell_type": "markdown",
      "source": [
        "3.What are pre-defined keywords in Python ?\n",
        " Answer : True, False, Else, if, El-if, break, return , try, catch etc."
      ],
      "metadata": {
        "id": "4_0WcTWqX3zv"
      }
    },
    {
      "cell_type": "markdown",
      "source": [
        "4 .Can keywords be used as variable names ?\n",
        "Answer : No, it is special words , reserved for some purpose."
      ],
      "metadata": {
        "id": "2m_fWcG2YQwa"
      }
    },
    {
      "cell_type": "markdown",
      "source": [
        "5. What is mutability in Python ?\n",
        " Answer : Mutability means object value can be changed after creation . For example in List, after creation of the list using append we can items in list, that is mutability in Python."
      ],
      "metadata": {
        "id": "bsatq5s1Ywmi"
      }
    },
    {
      "cell_type": "markdown",
      "source": [
        "6. Why are lists mutable, but tuples are immutable ?\n",
        " Answer : Because lists are made for dynamic data like E-commerce app's shoping cart but Tuples are created for fixed data like co-ordinates of a certain location which will not be changed or any one can not change it in future."
      ],
      "metadata": {
        "id": "XYl5x0z1Zcps"
      }
    },
    {
      "cell_type": "markdown",
      "source": [
        "7. What is the difference between “==” and “is” operators in Python ?\n",
        "Answer : == opeator checks if the value of the variables are same or not where as is operator checks memory address of those variables.\n"
      ],
      "metadata": {
        "id": "1r_n_-dCazh6"
      }
    },
    {
      "cell_type": "markdown",
      "source": [
        "8. What are logical operators in Python ?\n",
        " Answer : Logical operators are and, or, not used to check wheather the statement returns true or false."
      ],
      "metadata": {
        "id": "AkNAytLMbubA"
      }
    },
    {
      "cell_type": "markdown",
      "source": [
        "9.What is type casting in Python ?\n",
        " Answer : Type casting in python means converting data type into another data type. like int to float , float to int."
      ],
      "metadata": {
        "id": "NZSK6FNPcHmx"
      }
    },
    {
      "cell_type": "markdown",
      "source": [
        "10. What is the difference between implicit and explicit type casting ?\n",
        " Answer : Implicit type casting is when Python converts automatically but explicit type casting is when coder forces to convert data type into another."
      ],
      "metadata": {
        "id": "Xy2mdlHbcolr"
      }
    },
    {
      "cell_type": "markdown",
      "source": [
        "11. What is the purpose of conditional statements in Python ?\n",
        "Answer :Purpose of conditional statement in python is to check the boolean logic of two statements wheather it is true or false."
      ],
      "metadata": {
        "id": "N4UplC6Fd1oQ"
      }
    },
    {
      "cell_type": "markdown",
      "source": [
        "12. How does the elif statement work  ?\n",
        "\n",
        "\n",
        "*   It checks first if block, then checks multiple conditions.\n",
        "*   IF if fails then python checks all the el-if blocks.\n",
        "\n"
      ],
      "metadata": {
        "id": "DUkNfSnPei8e"
      }
    },
    {
      "cell_type": "markdown",
      "source": [
        "13.  What is the difference between for and while loops ?\n",
        "     Answer : For loop is used when coder know how many times to iterate but while loop is used when iteration needs to meet certain condition. do not how many times to iterate."
      ],
      "metadata": {
        "id": "z-7k7iQvfec7"
      }
    },
    {
      "cell_type": "code",
      "source": [
        "# Program to print \"Hello, World!\"\n",
        "print(\"Hello, World!\")"
      ],
      "metadata": {
        "colab": {
          "base_uri": "https://localhost:8080/"
        },
        "id": "sikUgt7pgIcd",
        "outputId": "4df0e31b-0368-48c9-b7a9-be0a93de0e84"
      },
      "execution_count": 2,
      "outputs": [
        {
          "output_type": "stream",
          "name": "stdout",
          "text": [
            "Hello, World!\n"
          ]
        }
      ]
    },
    {
      "cell_type": "code",
      "source": [
        "# Program to display name and age\n",
        "name = \"Sayantan\"\n",
        "age = 28\n",
        "print(\"My name is\", name, \"and I am\", age, \"years old.\")"
      ],
      "metadata": {
        "colab": {
          "base_uri": "https://localhost:8080/"
        },
        "id": "kT4ZJtcZh22L",
        "outputId": "e3346c3a-6ed5-4cdf-b716-520a2f70aac7"
      },
      "execution_count": 3,
      "outputs": [
        {
          "output_type": "stream",
          "name": "stdout",
          "text": [
            "My name is Sayantan and I am 28 years old.\n"
          ]
        }
      ]
    },
    {
      "cell_type": "code",
      "source": [
        "# Program for basic arithmetic operations\n",
        "num1 = float(input(\"Enter first number: \"))\n",
        "num2 = float(input(\"Enter second number: \"))\n",
        "\n",
        "print(\"Addition:\", num1 + num2)\n",
        "print(\"Subtraction:\", num1 - num2)\n",
        "print(\"Multiplication:\", num1 * num2)\n",
        "print(\"Division:\", num1 / num2)\n",
        "print(\"Modulus \", num1 % num2)"
      ],
      "metadata": {
        "colab": {
          "base_uri": "https://localhost:8080/"
        },
        "id": "5t9AjjBDiONF",
        "outputId": "6c2c6fe5-aae4-4741-e767-956727834ba2"
      },
      "execution_count": 4,
      "outputs": [
        {
          "output_type": "stream",
          "name": "stdout",
          "text": [
            "Enter first number: 6\n",
            "Enter second number: 2\n",
            "Addition: 8.0\n",
            "Subtraction: 4.0\n",
            "Multiplication: 12.0\n",
            "Division: 3.0\n",
            "Modulus  0.0\n"
          ]
        }
      ]
    },
    {
      "cell_type": "code",
      "source": [
        "# Program to demonstrate logical operators\n",
        "x = True\n",
        "y = False\n",
        "\n",
        "print(\"x and y is\", x and y)\n",
        "print(\"x or y is\", x or y)\n",
        "print(\"not x is\", not x)"
      ],
      "metadata": {
        "colab": {
          "base_uri": "https://localhost:8080/"
        },
        "id": "QnsfscYXi56D",
        "outputId": "c6f6f41a-ac37-42b5-93e6-872faa0e254d"
      },
      "execution_count": 5,
      "outputs": [
        {
          "output_type": "stream",
          "name": "stdout",
          "text": [
            "x and y is False\n",
            "x or y is True\n",
            "not x is False\n"
          ]
        }
      ]
    },
    {
      "cell_type": "code",
      "source": [
        "# Program to show difference between list and tuple\n",
        "my_list = [1, 2, 3]\n",
        "my_tuple = (1, 2, 3)\n",
        "my_list[0] = 10\n",
        "print(\"Modified list:\", my_list)\n",
        "\n",
        "try:\n",
        "    my_tuple[0] = 10\n",
        "except TypeError:\n",
        "    print(\"Cannot be modifed tuple elements because they are immutable\")"
      ],
      "metadata": {
        "colab": {
          "base_uri": "https://localhost:8080/"
        },
        "id": "NNq9peH-jOLN",
        "outputId": "f62ff9f5-282a-4cfc-c1aa-544cf2f7aaa9"
      },
      "execution_count": 6,
      "outputs": [
        {
          "output_type": "stream",
          "name": "stdout",
          "text": [
            "Modified list: [10, 2, 3]\n",
            "Cannot be modifed tuple elements because they are immutable\n"
          ]
        }
      ]
    },
    {
      "cell_type": "code",
      "source": [
        "# Program to check if number is positive, negative or zero\n",
        "num = float(input(\"Enter a number: \"))\n",
        "\n",
        "if num > 0:\n",
        "    print(\"Positive number\")\n",
        "elif num < 0:\n",
        "    print(\"Negative number\")\n",
        "else:\n",
        "    print(\"Zero\")"
      ],
      "metadata": {
        "colab": {
          "base_uri": "https://localhost:8080/"
        },
        "id": "xxD2NDevjwzu",
        "outputId": "234201a6-555e-4cc3-ecb7-3e132db343e3"
      },
      "execution_count": 7,
      "outputs": [
        {
          "output_type": "stream",
          "name": "stdout",
          "text": [
            "Enter a number: 0\n",
            "Zero\n"
          ]
        }
      ]
    },
    {
      "cell_type": "code",
      "source": [
        "# Program to print numbers from 1 to 10 using a for loop\n",
        "for number in range(1, 11):\n",
        "    print(number)"
      ],
      "metadata": {
        "colab": {
          "base_uri": "https://localhost:8080/"
        },
        "id": "O-XSK_5ikATt",
        "outputId": "d47baff0-9f8b-4f0f-9bc7-a3973afe6864"
      },
      "execution_count": 8,
      "outputs": [
        {
          "output_type": "stream",
          "name": "stdout",
          "text": [
            "1\n",
            "2\n",
            "3\n",
            "4\n",
            "5\n",
            "6\n",
            "7\n",
            "8\n",
            "9\n",
            "10\n"
          ]
        }
      ]
    },
    {
      "cell_type": "code",
      "source": [
        "# Program to find sum of even numbers between 1 and 50\n",
        "sum = 0\n",
        "for num in range(2, 51, 2):\n",
        "    sum = num+sum\n",
        "\n",
        "print(\"Sum of even numbers from 1 to 50 is:\", sum)"
      ],
      "metadata": {
        "colab": {
          "base_uri": "https://localhost:8080/"
        },
        "id": "C76DvelYkYI_",
        "outputId": "7941baab-781b-47d4-eead-0426b23cd5fa"
      },
      "execution_count": 9,
      "outputs": [
        {
          "output_type": "stream",
          "name": "stdout",
          "text": [
            "Sum of even numbers from 1 to 50 is: 650\n"
          ]
        }
      ]
    },
    {
      "cell_type": "markdown",
      "source": [],
      "metadata": {
        "id": "nmcAYJ60eXQj"
      }
    },
    {
      "cell_type": "markdown",
      "source": [],
      "metadata": {
        "id": "HxBXaImXWqAB"
      }
    },
    {
      "cell_type": "markdown",
      "source": [],
      "metadata": {
        "id": "5jEV5umkznxb"
      }
    },
    {
      "cell_type": "markdown",
      "source": [],
      "metadata": {
        "id": "OpnxpxsmzCh6"
      }
    }
  ]
}